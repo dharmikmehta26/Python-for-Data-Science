{
 "cells": [
  {
   "cell_type": "code",
   "execution_count": 14,
   "metadata": {},
   "outputs": [],
   "source": [
    "import pandas as pd\n",
    "import numpy as np"
   ]
  },
  {
   "cell_type": "code",
   "execution_count": 17,
   "metadata": {},
   "outputs": [],
   "source": [
    "import matplotlib.pyplot as plt\n",
    "import seaborn as sns"
   ]
  },
  {
   "cell_type": "code",
   "execution_count": 12,
   "metadata": {},
   "outputs": [
    {
     "data": {
      "text/html": [
       "<div>\n",
       "<style scoped>\n",
       "    .dataframe tbody tr th:only-of-type {\n",
       "        vertical-align: middle;\n",
       "    }\n",
       "\n",
       "    .dataframe tbody tr th {\n",
       "        vertical-align: top;\n",
       "    }\n",
       "\n",
       "    .dataframe thead th {\n",
       "        text-align: right;\n",
       "    }\n",
       "</style>\n",
       "<table border=\"1\" class=\"dataframe\">\n",
       "  <thead>\n",
       "    <tr style=\"text-align: right;\">\n",
       "      <th></th>\n",
       "      <th>lat</th>\n",
       "      <th>lng</th>\n",
       "      <th>desc</th>\n",
       "      <th>zip</th>\n",
       "      <th>title</th>\n",
       "      <th>timeStamp</th>\n",
       "      <th>twp</th>\n",
       "      <th>addr</th>\n",
       "      <th>e</th>\n",
       "    </tr>\n",
       "  </thead>\n",
       "  <tbody>\n",
       "    <tr>\n",
       "      <th>0</th>\n",
       "      <td>40.297876</td>\n",
       "      <td>-75.581294</td>\n",
       "      <td>REINDEER CT &amp; DEAD END;  NEW HANOVER; Station ...</td>\n",
       "      <td>19525.0</td>\n",
       "      <td>EMS: BACK PAINS/INJURY</td>\n",
       "      <td>2015-12-10 17:10:52</td>\n",
       "      <td>NEW HANOVER</td>\n",
       "      <td>REINDEER CT &amp; DEAD END</td>\n",
       "      <td>1</td>\n",
       "    </tr>\n",
       "    <tr>\n",
       "      <th>1</th>\n",
       "      <td>40.258061</td>\n",
       "      <td>-75.264680</td>\n",
       "      <td>BRIAR PATH &amp; WHITEMARSH LN;  HATFIELD TOWNSHIP...</td>\n",
       "      <td>19446.0</td>\n",
       "      <td>EMS: DIABETIC EMERGENCY</td>\n",
       "      <td>2015-12-10 17:29:21</td>\n",
       "      <td>HATFIELD TOWNSHIP</td>\n",
       "      <td>BRIAR PATH &amp; WHITEMARSH LN</td>\n",
       "      <td>1</td>\n",
       "    </tr>\n",
       "    <tr>\n",
       "      <th>2</th>\n",
       "      <td>40.121182</td>\n",
       "      <td>-75.351975</td>\n",
       "      <td>HAWS AVE; NORRISTOWN; 2015-12-10 @ 14:39:21-St...</td>\n",
       "      <td>19401.0</td>\n",
       "      <td>Fire: GAS-ODOR/LEAK</td>\n",
       "      <td>2015-12-10 14:39:21</td>\n",
       "      <td>NORRISTOWN</td>\n",
       "      <td>HAWS AVE</td>\n",
       "      <td>1</td>\n",
       "    </tr>\n",
       "    <tr>\n",
       "      <th>3</th>\n",
       "      <td>40.116153</td>\n",
       "      <td>-75.343513</td>\n",
       "      <td>AIRY ST &amp; SWEDE ST;  NORRISTOWN; Station 308A;...</td>\n",
       "      <td>19401.0</td>\n",
       "      <td>EMS: CARDIAC EMERGENCY</td>\n",
       "      <td>2015-12-10 16:47:36</td>\n",
       "      <td>NORRISTOWN</td>\n",
       "      <td>AIRY ST &amp; SWEDE ST</td>\n",
       "      <td>1</td>\n",
       "    </tr>\n",
       "    <tr>\n",
       "      <th>4</th>\n",
       "      <td>40.251492</td>\n",
       "      <td>-75.603350</td>\n",
       "      <td>CHERRYWOOD CT &amp; DEAD END;  LOWER POTTSGROVE; S...</td>\n",
       "      <td>NaN</td>\n",
       "      <td>EMS: DIZZINESS</td>\n",
       "      <td>2015-12-10 16:56:52</td>\n",
       "      <td>LOWER POTTSGROVE</td>\n",
       "      <td>CHERRYWOOD CT &amp; DEAD END</td>\n",
       "      <td>1</td>\n",
       "    </tr>\n",
       "  </tbody>\n",
       "</table>\n",
       "</div>"
      ],
      "text/plain": [
       "         lat        lng                                               desc  \\\n",
       "0  40.297876 -75.581294  REINDEER CT & DEAD END;  NEW HANOVER; Station ...   \n",
       "1  40.258061 -75.264680  BRIAR PATH & WHITEMARSH LN;  HATFIELD TOWNSHIP...   \n",
       "2  40.121182 -75.351975  HAWS AVE; NORRISTOWN; 2015-12-10 @ 14:39:21-St...   \n",
       "3  40.116153 -75.343513  AIRY ST & SWEDE ST;  NORRISTOWN; Station 308A;...   \n",
       "4  40.251492 -75.603350  CHERRYWOOD CT & DEAD END;  LOWER POTTSGROVE; S...   \n",
       "\n",
       "       zip                    title            timeStamp                twp  \\\n",
       "0  19525.0   EMS: BACK PAINS/INJURY  2015-12-10 17:10:52        NEW HANOVER   \n",
       "1  19446.0  EMS: DIABETIC EMERGENCY  2015-12-10 17:29:21  HATFIELD TOWNSHIP   \n",
       "2  19401.0      Fire: GAS-ODOR/LEAK  2015-12-10 14:39:21         NORRISTOWN   \n",
       "3  19401.0   EMS: CARDIAC EMERGENCY  2015-12-10 16:47:36         NORRISTOWN   \n",
       "4      NaN           EMS: DIZZINESS  2015-12-10 16:56:52   LOWER POTTSGROVE   \n",
       "\n",
       "                         addr  e  \n",
       "0      REINDEER CT & DEAD END  1  \n",
       "1  BRIAR PATH & WHITEMARSH LN  1  \n",
       "2                    HAWS AVE  1  \n",
       "3          AIRY ST & SWEDE ST  1  \n",
       "4    CHERRYWOOD CT & DEAD END  1  "
      ]
     },
     "execution_count": 12,
     "metadata": {},
     "output_type": "execute_result"
    }
   ],
   "source": [
    "data_911 =pd.read_csv('911.csv')\n",
    "data_911.head()\n",
    "#data_911.columns\n",
    "#data_911.index"
   ]
  },
  {
   "cell_type": "code",
   "execution_count": 18,
   "metadata": {},
   "outputs": [
    {
     "name": "stdout",
     "output_type": "stream",
     "text": [
      "<class 'pandas.core.frame.DataFrame'>\n",
      "RangeIndex: 326425 entries, 0 to 326424\n",
      "Data columns (total 9 columns):\n",
      "lat          326425 non-null float64\n",
      "lng          326425 non-null float64\n",
      "desc         326425 non-null object\n",
      "zip          286835 non-null float64\n",
      "title        326425 non-null object\n",
      "timeStamp    326425 non-null object\n",
      "twp          326310 non-null object\n",
      "addr         326425 non-null object\n",
      "e            326425 non-null int64\n",
      "dtypes: float64(3), int64(1), object(5)\n",
      "memory usage: 22.4+ MB\n"
     ]
    }
   ],
   "source": [
    "data_911.info()"
   ]
  },
  {
   "cell_type": "code",
   "execution_count": 23,
   "metadata": {},
   "outputs": [
    {
     "data": {
      "text/plain": [
       "19401.0    22136\n",
       "19464.0    21588\n",
       "19403.0    16488\n",
       "19446.0    15793\n",
       "19406.0    10800\n",
       "Name: zip, dtype: int64"
      ]
     },
     "execution_count": 23,
     "metadata": {},
     "output_type": "execute_result"
    }
   ],
   "source": [
    "data_911['zip'].value_counts().head(5)"
   ]
  },
  {
   "cell_type": "code",
   "execution_count": 25,
   "metadata": {},
   "outputs": [
    {
     "data": {
      "text/plain": [
       "LOWER MERION    28073\n",
       "ABINGTON        20206\n",
       "NORRISTOWN      18433\n",
       "UPPER MERION    17276\n",
       "CHELTENHAM      15026\n",
       "Name: twp, dtype: int64"
      ]
     },
     "execution_count": 25,
     "metadata": {},
     "output_type": "execute_result"
    }
   ],
   "source": [
    "data_911['twp'].value_counts().head(5)"
   ]
  },
  {
   "cell_type": "code",
   "execution_count": 30,
   "metadata": {},
   "outputs": [
    {
     "data": {
      "text/plain": [
       "133"
      ]
     },
     "execution_count": 30,
     "metadata": {},
     "output_type": "execute_result"
    }
   ],
   "source": [
    "data_911['title'].nunique()"
   ]
  },
  {
   "cell_type": "code",
   "execution_count": 41,
   "metadata": {},
   "outputs": [
    {
     "data": {
      "text/plain": [
       "0     EMS\n",
       "1     EMS\n",
       "2    Fire\n",
       "3     EMS\n",
       "4     EMS\n",
       "Name: reason, dtype: object"
      ]
     },
     "execution_count": 41,
     "metadata": {},
     "output_type": "execute_result"
    }
   ],
   "source": [
    "data_911['reason']=data_911['title'].apply(lambda x: x.split(':')[0])\n",
    "data_911['reason'].head()"
   ]
  },
  {
   "cell_type": "code",
   "execution_count": 49,
   "metadata": {},
   "outputs": [
    {
     "data": {
      "text/plain": [
       "EMS        161441\n",
       "Traffic    116065\n",
       "Fire        48919\n",
       "Name: reason, dtype: int64"
      ]
     },
     "execution_count": 49,
     "metadata": {},
     "output_type": "execute_result"
    }
   ],
   "source": [
    "data_911['reason'].value_counts()\n"
   ]
  },
  {
   "cell_type": "code",
   "execution_count": 54,
   "metadata": {},
   "outputs": [
    {
     "data": {
      "text/plain": [
       "<matplotlib.axes._subplots.AxesSubplot at 0x29fa59b0>"
      ]
     },
     "execution_count": 54,
     "metadata": {},
     "output_type": "execute_result"
    },
    {
     "data": {
      "image/png": "[encoded data removed]",
      "text/plain": [
       "<Figure size 432x288 with 1 Axes>"
      ]
     },
     "metadata": {},
     "output_type": "display_data"
    }
   ],
   "source": [
    "sns.countplot(data_911['reason'],palette='magma')"
   ]
  },
  {
   "cell_type": "code",
   "execution_count": 59,
   "metadata": {},
   "outputs": [
    {
     "data": {
      "text/plain": [
       "str"
      ]
     },
     "execution_count": 59,
     "metadata": {},
     "output_type": "execute_result"
    }
   ],
   "source": [
    "type(data_911['timeStamp'].iloc[0])"
   ]
  },
  {
   "cell_type": "code",
   "execution_count": 71,
   "metadata": {},
   "outputs": [
    {
     "data": {
      "text/plain": [
       "17"
      ]
     },
     "execution_count": 71,
     "metadata": {},
     "output_type": "execute_result"
    }
   ],
   "source": [
    "data_911['timeStamp']=pd.to_datetime(data_911['timeStamp'])\n",
    "time = data_911['timeStamp'].iloc[0]\n",
    "time.hour"
   ]
  },
  {
   "cell_type": "code",
   "execution_count": 76,
   "metadata": {},
   "outputs": [
    {
     "data": {
      "text/plain": [
       "0   2015-12-10 17:10:52\n",
       "1   2015-12-10 17:29:21\n",
       "2   2015-12-10 14:39:21\n",
       "3   2015-12-10 16:47:36\n",
       "4   2015-12-10 16:56:52\n",
       "Name: timeStamp, dtype: datetime64[ns]"
      ]
     },
     "execution_count": 76,
     "metadata": {},
     "output_type": "execute_result"
    }
   ],
   "source": [
    "data_911['Hour']=data_911['timeStamp'].apply(lambda x: x.hour)\n",
    "data_911['timeStamp'].head(5)"
   ]
  },
  {
   "cell_type": "code",
   "execution_count": 82,
   "metadata": {},
   "outputs": [],
   "source": [
    "data_911['Month']=data_911['timeStamp'].apply(lambda x: x.month)\n"
   ]
  },
  {
   "cell_type": "code",
   "execution_count": 83,
   "metadata": {},
   "outputs": [],
   "source": [
    "data_911['Dayofweek']=data_911['timeStamp'].apply(lambda x: x.dayofweek)"
   ]
  },
  {
   "cell_type": "code",
   "execution_count": 98,
   "metadata": {},
   "outputs": [
    {
     "data": {
      "text/plain": [
       "<matplotlib.axes._subplots.AxesSubplot at 0x2bc86208>"
      ]
     },
     "execution_count": 98,
     "metadata": {},
     "output_type": "execute_result"
    },
    {
     "data": {
      "image/png": "[encoded data removed]",
      "text/plain": [
       "<Figure size 432x288 with 1 Axes>"
      ]
     },
     "metadata": {},
     "output_type": "display_data"
    }
   ],
   "source": [
    "sns.countplot(data_911['Dayofweek'],hue=data_911['reason'])"
   ]
  },
  {
   "cell_type": "code",
   "execution_count": 99,
   "metadata": {},
   "outputs": [
    {
     "data": {
      "text/html": [
       "<div>\n",
       "<style scoped>\n",
       "    .dataframe tbody tr th:only-of-type {\n",
       "        vertical-align: middle;\n",
       "    }\n",
       "\n",
       "    .dataframe tbody tr th {\n",
       "        vertical-align: top;\n",
       "    }\n",
       "\n",
       "    .dataframe thead th {\n",
       "        text-align: right;\n",
       "    }\n",
       "</style>\n",
       "<table border=\"1\" class=\"dataframe\">\n",
       "  <thead>\n",
       "    <tr style=\"text-align: right;\">\n",
       "      <th></th>\n",
       "      <th>lat</th>\n",
       "      <th>lng</th>\n",
       "      <th>desc</th>\n",
       "      <th>zip</th>\n",
       "      <th>title</th>\n",
       "      <th>timeStamp</th>\n",
       "      <th>twp</th>\n",
       "      <th>addr</th>\n",
       "      <th>e</th>\n",
       "      <th>reason</th>\n",
       "      <th>Hour</th>\n",
       "      <th>Dayofweek</th>\n",
       "    </tr>\n",
       "    <tr>\n",
       "      <th>Month</th>\n",
       "      <th></th>\n",
       "      <th></th>\n",
       "      <th></th>\n",
       "      <th></th>\n",
       "      <th></th>\n",
       "      <th></th>\n",
       "      <th></th>\n",
       "      <th></th>\n",
       "      <th></th>\n",
       "      <th></th>\n",
       "      <th></th>\n",
       "      <th></th>\n",
       "    </tr>\n",
       "  </thead>\n",
       "  <tbody>\n",
       "    <tr>\n",
       "      <th>1</th>\n",
       "      <td>37824</td>\n",
       "      <td>37824</td>\n",
       "      <td>37824</td>\n",
       "      <td>33480</td>\n",
       "      <td>37824</td>\n",
       "      <td>37824</td>\n",
       "      <td>37812</td>\n",
       "      <td>37824</td>\n",
       "      <td>37824</td>\n",
       "      <td>37824</td>\n",
       "      <td>37824</td>\n",
       "      <td>37824</td>\n",
       "    </tr>\n",
       "    <tr>\n",
       "      <th>2</th>\n",
       "      <td>32828</td>\n",
       "      <td>32828</td>\n",
       "      <td>32828</td>\n",
       "      <td>28963</td>\n",
       "      <td>32828</td>\n",
       "      <td>32828</td>\n",
       "      <td>32817</td>\n",
       "      <td>32828</td>\n",
       "      <td>32828</td>\n",
       "      <td>32828</td>\n",
       "      <td>32828</td>\n",
       "      <td>32828</td>\n",
       "    </tr>\n",
       "    <tr>\n",
       "      <th>3</th>\n",
       "      <td>34987</td>\n",
       "      <td>34987</td>\n",
       "      <td>34987</td>\n",
       "      <td>31070</td>\n",
       "      <td>34987</td>\n",
       "      <td>34987</td>\n",
       "      <td>34973</td>\n",
       "      <td>34987</td>\n",
       "      <td>34987</td>\n",
       "      <td>34987</td>\n",
       "      <td>34987</td>\n",
       "      <td>34987</td>\n",
       "    </tr>\n",
       "    <tr>\n",
       "      <th>4</th>\n",
       "      <td>22343</td>\n",
       "      <td>22343</td>\n",
       "      <td>22343</td>\n",
       "      <td>19671</td>\n",
       "      <td>22343</td>\n",
       "      <td>22343</td>\n",
       "      <td>22336</td>\n",
       "      <td>22343</td>\n",
       "      <td>22343</td>\n",
       "      <td>22343</td>\n",
       "      <td>22343</td>\n",
       "      <td>22343</td>\n",
       "    </tr>\n",
       "    <tr>\n",
       "      <th>5</th>\n",
       "      <td>23093</td>\n",
       "      <td>23093</td>\n",
       "      <td>23093</td>\n",
       "      <td>20254</td>\n",
       "      <td>23093</td>\n",
       "      <td>23093</td>\n",
       "      <td>23082</td>\n",
       "      <td>23093</td>\n",
       "      <td>23093</td>\n",
       "      <td>23093</td>\n",
       "      <td>23093</td>\n",
       "      <td>23093</td>\n",
       "    </tr>\n",
       "  </tbody>\n",
       "</table>\n",
       "</div>"
      ],
      "text/plain": [
       "         lat    lng   desc    zip  title  timeStamp    twp   addr      e  \\\n",
       "Month                                                                      \n",
       "1      37824  37824  37824  33480  37824      37824  37812  37824  37824   \n",
       "2      32828  32828  32828  28963  32828      32828  32817  32828  32828   \n",
       "3      34987  34987  34987  31070  34987      34987  34973  34987  34987   \n",
       "4      22343  22343  22343  19671  22343      22343  22336  22343  22343   \n",
       "5      23093  23093  23093  20254  23093      23093  23082  23093  23093   \n",
       "\n",
       "       reason   Hour  Dayofweek  \n",
       "Month                            \n",
       "1       37824  37824      37824  \n",
       "2       32828  32828      32828  \n",
       "3       34987  34987      34987  \n",
       "4       22343  22343      22343  \n",
       "5       23093  23093      23093  "
      ]
     },
     "execution_count": 99,
     "metadata": {},
     "output_type": "execute_result"
    }
   ],
   "source": [
    "data_911.groupby(by='Month').count().head(5)"
   ]
  },
  {
   "cell_type": "code",
   "execution_count": 117,
   "metadata": {},
   "outputs": [
    {
     "data": {
      "text/plain": [
       "<matplotlib.axes._subplots.AxesSubplot at 0x2f1cc0b8>"
      ]
     },
     "execution_count": 117,
     "metadata": {},
     "output_type": "execute_result"
    },
    {
     "data": {
      "image/png": "[encoded data removed]",
      "text/plain": [
       "<Figure size 432x288 with 1 Axes>"
      ]
     },
     "metadata": {},
     "output_type": "display_data"
    }
   ],
   "source": [
    "#sns.lmplot('Month')\n",
    "d=data_911.groupby('Month').count()\n",
    "#data_911['Month'].value_counts().plot(kind='line')\n",
    "d['lat'].plot()"
   ]
  },
  {
   "cell_type": "code",
   "execution_count": 129,
   "metadata": {},
   "outputs": [
    {
     "data": {
      "text/plain": [
       "<seaborn.axisgrid.FacetGrid at 0x30815588>"
      ]
     },
     "execution_count": 129,
     "metadata": {},
     "output_type": "execute_result"
    },
    {
     "data": {
      "image/png": "[encoded data removed]",
      "text/plain": [
       "<Figure size 360x360 with 1 Axes>"
      ]
     },
     "metadata": {},
     "output_type": "display_data"
    }
   ],
   "source": [
    "sns.lmplot(x='Month',y='twp',data=d.reset_index())"
   ]
  },
  {
   "cell_type": "code",
   "execution_count": 141,
   "metadata": {},
   "outputs": [],
   "source": [
    "data_911['date']=data_911['timeStamp'].apply(lambda x: x.date())\n"
   ]
  },
  {
   "cell_type": "code",
   "execution_count": 150,
   "metadata": {},
   "outputs": [
    {
     "data": {
      "image/png": "[encoded data removed]",
      "text/plain": [
       "<Figure size 432x288 with 1 Axes>"
      ]
     },
     "metadata": {},
     "output_type": "display_data"
    }
   ],
   "source": [
    "data_911[data_911['reason']=='EMS'].groupby('date').count()['lat'].plot()\n",
    "plt.tight_layout()"
   ]
  },
  {
   "cell_type": "code",
   "execution_count": 153,
   "metadata": {},
   "outputs": [
    {
     "data": {
      "image/png": "[encoded data removed]",
      "text/plain": [
       "<Figure size 432x288 with 1 Axes>"
      ]
     },
     "metadata": {},
     "output_type": "display_data"
    }
   ],
   "source": [
    "data_911[data_911['reason']=='Fire'].groupby('date').count()['lat'].plot()\n",
    "plt.tight_layout()"
   ]
  },
  {
   "cell_type": "code",
   "execution_count": 156,
   "metadata": {},
   "outputs": [
    {
     "data": {
      "image/png": "[encoded data removed]",
      "text/plain": [
       "<Figure size 432x288 with 1 Axes>"
      ]
     },
     "metadata": {},
     "output_type": "display_data"
    }
   ],
   "source": [
    "data_911[data_911['reason']=='Traffic'].groupby('date').count()['lat'].plot()\n",
    "plt.tight_layout()"
   ]
  },
  {
   "cell_type": "code",
   "execution_count": 159,
   "metadata": {},
   "outputs": [
    {
     "data": {
      "text/html": [
       "<div>\n",
       "<style scoped>\n",
       "    .dataframe tbody tr th:only-of-type {\n",
       "        vertical-align: middle;\n",
       "    }\n",
       "\n",
       "    .dataframe tbody tr th {\n",
       "        vertical-align: top;\n",
       "    }\n",
       "\n",
       "    .dataframe thead th {\n",
       "        text-align: right;\n",
       "    }\n",
       "</style>\n",
       "<table border=\"1\" class=\"dataframe\">\n",
       "  <thead>\n",
       "    <tr style=\"text-align: right;\">\n",
       "      <th>Hour</th>\n",
       "      <th>0</th>\n",
       "      <th>1</th>\n",
       "      <th>2</th>\n",
       "      <th>3</th>\n",
       "      <th>4</th>\n",
       "      <th>5</th>\n",
       "      <th>6</th>\n",
       "      <th>7</th>\n",
       "      <th>8</th>\n",
       "      <th>9</th>\n",
       "      <th>...</th>\n",
       "      <th>14</th>\n",
       "      <th>15</th>\n",
       "      <th>16</th>\n",
       "      <th>17</th>\n",
       "      <th>18</th>\n",
       "      <th>19</th>\n",
       "      <th>20</th>\n",
       "      <th>21</th>\n",
       "      <th>22</th>\n",
       "      <th>23</th>\n",
       "    </tr>\n",
       "    <tr>\n",
       "      <th>Dayofweek</th>\n",
       "      <th></th>\n",
       "      <th></th>\n",
       "      <th></th>\n",
       "      <th></th>\n",
       "      <th></th>\n",
       "      <th></th>\n",
       "      <th></th>\n",
       "      <th></th>\n",
       "      <th></th>\n",
       "      <th></th>\n",
       "      <th></th>\n",
       "      <th></th>\n",
       "      <th></th>\n",
       "      <th></th>\n",
       "      <th></th>\n",
       "      <th></th>\n",
       "      <th></th>\n",
       "      <th></th>\n",
       "      <th></th>\n",
       "      <th></th>\n",
       "      <th></th>\n",
       "    </tr>\n",
       "  </thead>\n",
       "  <tbody>\n",
       "    <tr>\n",
       "      <th>0</th>\n",
       "      <td>40.160939</td>\n",
       "      <td>40.163876</td>\n",
       "      <td>40.161841</td>\n",
       "      <td>40.171153</td>\n",
       "      <td>40.167396</td>\n",
       "      <td>40.174258</td>\n",
       "      <td>40.167262</td>\n",
       "      <td>40.158707</td>\n",
       "      <td>40.156741</td>\n",
       "      <td>40.157008</td>\n",
       "      <td>...</td>\n",
       "      <td>40.159208</td>\n",
       "      <td>40.158347</td>\n",
       "      <td>40.156664</td>\n",
       "      <td>40.157971</td>\n",
       "      <td>40.153346</td>\n",
       "      <td>40.156647</td>\n",
       "      <td>40.162608</td>\n",
       "      <td>40.163946</td>\n",
       "      <td>40.159365</td>\n",
       "      <td>40.160755</td>\n",
       "    </tr>\n",
       "    <tr>\n",
       "      <th>1</th>\n",
       "      <td>40.161950</td>\n",
       "      <td>40.161838</td>\n",
       "      <td>40.164698</td>\n",
       "      <td>40.163459</td>\n",
       "      <td>40.169132</td>\n",
       "      <td>40.168053</td>\n",
       "      <td>40.166405</td>\n",
       "      <td>40.161216</td>\n",
       "      <td>40.155270</td>\n",
       "      <td>40.157651</td>\n",
       "      <td>...</td>\n",
       "      <td>40.154275</td>\n",
       "      <td>40.157702</td>\n",
       "      <td>40.158688</td>\n",
       "      <td>40.156965</td>\n",
       "      <td>40.159664</td>\n",
       "      <td>40.160494</td>\n",
       "      <td>40.168099</td>\n",
       "      <td>40.163684</td>\n",
       "      <td>40.163653</td>\n",
       "      <td>40.163844</td>\n",
       "    </tr>\n",
       "    <tr>\n",
       "      <th>2</th>\n",
       "      <td>40.162850</td>\n",
       "      <td>40.163613</td>\n",
       "      <td>40.160292</td>\n",
       "      <td>40.163896</td>\n",
       "      <td>40.171335</td>\n",
       "      <td>40.163287</td>\n",
       "      <td>40.164618</td>\n",
       "      <td>40.161805</td>\n",
       "      <td>40.159347</td>\n",
       "      <td>40.156587</td>\n",
       "      <td>...</td>\n",
       "      <td>40.156275</td>\n",
       "      <td>40.159702</td>\n",
       "      <td>40.156040</td>\n",
       "      <td>40.154885</td>\n",
       "      <td>40.159483</td>\n",
       "      <td>40.155996</td>\n",
       "      <td>40.161459</td>\n",
       "      <td>40.161574</td>\n",
       "      <td>40.159691</td>\n",
       "      <td>40.161743</td>\n",
       "    </tr>\n",
       "    <tr>\n",
       "      <th>3</th>\n",
       "      <td>40.158879</td>\n",
       "      <td>40.164611</td>\n",
       "      <td>40.167222</td>\n",
       "      <td>40.165480</td>\n",
       "      <td>40.164440</td>\n",
       "      <td>40.166449</td>\n",
       "      <td>40.167396</td>\n",
       "      <td>40.155690</td>\n",
       "      <td>40.156885</td>\n",
       "      <td>40.152754</td>\n",
       "      <td>...</td>\n",
       "      <td>40.160686</td>\n",
       "      <td>40.155534</td>\n",
       "      <td>40.158266</td>\n",
       "      <td>40.160152</td>\n",
       "      <td>40.159599</td>\n",
       "      <td>40.158926</td>\n",
       "      <td>40.160946</td>\n",
       "      <td>40.160198</td>\n",
       "      <td>40.162376</td>\n",
       "      <td>40.163156</td>\n",
       "    </tr>\n",
       "    <tr>\n",
       "      <th>4</th>\n",
       "      <td>40.164150</td>\n",
       "      <td>40.160632</td>\n",
       "      <td>40.167542</td>\n",
       "      <td>40.161366</td>\n",
       "      <td>40.172601</td>\n",
       "      <td>40.169341</td>\n",
       "      <td>40.170703</td>\n",
       "      <td>40.161986</td>\n",
       "      <td>40.158431</td>\n",
       "      <td>40.157088</td>\n",
       "      <td>...</td>\n",
       "      <td>40.156593</td>\n",
       "      <td>40.154905</td>\n",
       "      <td>40.155673</td>\n",
       "      <td>40.157366</td>\n",
       "      <td>40.154634</td>\n",
       "      <td>40.154661</td>\n",
       "      <td>40.160716</td>\n",
       "      <td>40.157557</td>\n",
       "      <td>40.163891</td>\n",
       "      <td>40.160130</td>\n",
       "    </tr>\n",
       "    <tr>\n",
       "      <th>5</th>\n",
       "      <td>40.167712</td>\n",
       "      <td>40.159076</td>\n",
       "      <td>40.158126</td>\n",
       "      <td>40.156879</td>\n",
       "      <td>40.165679</td>\n",
       "      <td>40.166566</td>\n",
       "      <td>40.158033</td>\n",
       "      <td>40.161860</td>\n",
       "      <td>40.158407</td>\n",
       "      <td>40.163124</td>\n",
       "      <td>...</td>\n",
       "      <td>40.157735</td>\n",
       "      <td>40.159507</td>\n",
       "      <td>40.160139</td>\n",
       "      <td>40.157401</td>\n",
       "      <td>40.160481</td>\n",
       "      <td>40.161283</td>\n",
       "      <td>40.159414</td>\n",
       "      <td>40.164832</td>\n",
       "      <td>40.159244</td>\n",
       "      <td>40.159736</td>\n",
       "    </tr>\n",
       "    <tr>\n",
       "      <th>6</th>\n",
       "      <td>40.159922</td>\n",
       "      <td>40.159351</td>\n",
       "      <td>40.164408</td>\n",
       "      <td>40.161237</td>\n",
       "      <td>40.159731</td>\n",
       "      <td>40.164333</td>\n",
       "      <td>40.156820</td>\n",
       "      <td>40.165043</td>\n",
       "      <td>40.165238</td>\n",
       "      <td>40.167694</td>\n",
       "      <td>...</td>\n",
       "      <td>40.161578</td>\n",
       "      <td>40.162575</td>\n",
       "      <td>40.160650</td>\n",
       "      <td>40.160320</td>\n",
       "      <td>40.156715</td>\n",
       "      <td>40.159412</td>\n",
       "      <td>40.164875</td>\n",
       "      <td>40.161209</td>\n",
       "      <td>40.162893</td>\n",
       "      <td>40.165200</td>\n",
       "    </tr>\n",
       "  </tbody>\n",
       "</table>\n",
       "<p>7 rows × 24 columns</p>\n",
       "</div>"
      ],
      "text/plain": [
       "Hour              0          1          2          3          4          5   \\\n",
       "Dayofweek                                                                     \n",
       "0          40.160939  40.163876  40.161841  40.171153  40.167396  40.174258   \n",
       "1          40.161950  40.161838  40.164698  40.163459  40.169132  40.168053   \n",
       "2          40.162850  40.163613  40.160292  40.163896  40.171335  40.163287   \n",
       "3          40.158879  40.164611  40.167222  40.165480  40.164440  40.166449   \n",
       "4          40.164150  40.160632  40.167542  40.161366  40.172601  40.169341   \n",
       "5          40.167712  40.159076  40.158126  40.156879  40.165679  40.166566   \n",
       "6          40.159922  40.159351  40.164408  40.161237  40.159731  40.164333   \n",
       "\n",
       "Hour              6          7          8          9     ...             14  \\\n",
       "Dayofweek                                                ...                  \n",
       "0          40.167262  40.158707  40.156741  40.157008    ...      40.159208   \n",
       "1          40.166405  40.161216  40.155270  40.157651    ...      40.154275   \n",
       "2          40.164618  40.161805  40.159347  40.156587    ...      40.156275   \n",
       "3          40.167396  40.155690  40.156885  40.152754    ...      40.160686   \n",
       "4          40.170703  40.161986  40.158431  40.157088    ...      40.156593   \n",
       "5          40.158033  40.161860  40.158407  40.163124    ...      40.157735   \n",
       "6          40.156820  40.165043  40.165238  40.167694    ...      40.161578   \n",
       "\n",
       "Hour              15         16         17         18         19         20  \\\n",
       "Dayofweek                                                                     \n",
       "0          40.158347  40.156664  40.157971  40.153346  40.156647  40.162608   \n",
       "1          40.157702  40.158688  40.156965  40.159664  40.160494  40.168099   \n",
       "2          40.159702  40.156040  40.154885  40.159483  40.155996  40.161459   \n",
       "3          40.155534  40.158266  40.160152  40.159599  40.158926  40.160946   \n",
       "4          40.154905  40.155673  40.157366  40.154634  40.154661  40.160716   \n",
       "5          40.159507  40.160139  40.157401  40.160481  40.161283  40.159414   \n",
       "6          40.162575  40.160650  40.160320  40.156715  40.159412  40.164875   \n",
       "\n",
       "Hour              21         22         23  \n",
       "Dayofweek                                   \n",
       "0          40.163946  40.159365  40.160755  \n",
       "1          40.163684  40.163653  40.163844  \n",
       "2          40.161574  40.159691  40.161743  \n",
       "3          40.160198  40.162376  40.163156  \n",
       "4          40.157557  40.163891  40.160130  \n",
       "5          40.164832  40.159244  40.159736  \n",
       "6          40.161209  40.162893  40.165200  \n",
       "\n",
       "[7 rows x 24 columns]"
      ]
     },
     "execution_count": 159,
     "metadata": {},
     "output_type": "execute_result"
    }
   ],
   "source": [
    "   "
   ]
  },
  {
   "cell_type": "code",
   "execution_count": 160,
   "metadata": {},
   "outputs": [
    {
     "data": {
      "text/html": [
       "<div>\n",
       "<style scoped>\n",
       "    .dataframe tbody tr th:only-of-type {\n",
       "        vertical-align: middle;\n",
       "    }\n",
       "\n",
       "    .dataframe tbody tr th {\n",
       "        vertical-align: top;\n",
       "    }\n",
       "\n",
       "    .dataframe thead th {\n",
       "        text-align: right;\n",
       "    }\n",
       "</style>\n",
       "<table border=\"1\" class=\"dataframe\">\n",
       "  <thead>\n",
       "    <tr style=\"text-align: right;\">\n",
       "      <th></th>\n",
       "      <th>lat</th>\n",
       "      <th>lng</th>\n",
       "      <th>desc</th>\n",
       "      <th>zip</th>\n",
       "      <th>title</th>\n",
       "      <th>timeStamp</th>\n",
       "      <th>twp</th>\n",
       "      <th>addr</th>\n",
       "      <th>e</th>\n",
       "      <th>reason</th>\n",
       "      <th>Hour</th>\n",
       "      <th>Month</th>\n",
       "      <th>Dayofweek</th>\n",
       "      <th>date</th>\n",
       "    </tr>\n",
       "  </thead>\n",
       "  <tbody>\n",
       "    <tr>\n",
       "      <th>0</th>\n",
       "      <td>40.297876</td>\n",
       "      <td>-75.581294</td>\n",
       "      <td>REINDEER CT &amp; DEAD END;  NEW HANOVER; Station ...</td>\n",
       "      <td>19525.0</td>\n",
       "      <td>EMS: BACK PAINS/INJURY</td>\n",
       "      <td>2015-12-10 17:10:52</td>\n",
       "      <td>NEW HANOVER</td>\n",
       "      <td>REINDEER CT &amp; DEAD END</td>\n",
       "      <td>1</td>\n",
       "      <td>EMS</td>\n",
       "      <td>17</td>\n",
       "      <td>12</td>\n",
       "      <td>3</td>\n",
       "      <td>2015-12-10</td>\n",
       "    </tr>\n",
       "    <tr>\n",
       "      <th>1</th>\n",
       "      <td>40.258061</td>\n",
       "      <td>-75.264680</td>\n",
       "      <td>BRIAR PATH &amp; WHITEMARSH LN;  HATFIELD TOWNSHIP...</td>\n",
       "      <td>19446.0</td>\n",
       "      <td>EMS: DIABETIC EMERGENCY</td>\n",
       "      <td>2015-12-10 17:29:21</td>\n",
       "      <td>HATFIELD TOWNSHIP</td>\n",
       "      <td>BRIAR PATH &amp; WHITEMARSH LN</td>\n",
       "      <td>1</td>\n",
       "      <td>EMS</td>\n",
       "      <td>17</td>\n",
       "      <td>12</td>\n",
       "      <td>3</td>\n",
       "      <td>2015-12-10</td>\n",
       "    </tr>\n",
       "    <tr>\n",
       "      <th>2</th>\n",
       "      <td>40.121182</td>\n",
       "      <td>-75.351975</td>\n",
       "      <td>HAWS AVE; NORRISTOWN; 2015-12-10 @ 14:39:21-St...</td>\n",
       "      <td>19401.0</td>\n",
       "      <td>Fire: GAS-ODOR/LEAK</td>\n",
       "      <td>2015-12-10 14:39:21</td>\n",
       "      <td>NORRISTOWN</td>\n",
       "      <td>HAWS AVE</td>\n",
       "      <td>1</td>\n",
       "      <td>Fire</td>\n",
       "      <td>14</td>\n",
       "      <td>12</td>\n",
       "      <td>3</td>\n",
       "      <td>2015-12-10</td>\n",
       "    </tr>\n",
       "    <tr>\n",
       "      <th>3</th>\n",
       "      <td>40.116153</td>\n",
       "      <td>-75.343513</td>\n",
       "      <td>AIRY ST &amp; SWEDE ST;  NORRISTOWN; Station 308A;...</td>\n",
       "      <td>19401.0</td>\n",
       "      <td>EMS: CARDIAC EMERGENCY</td>\n",
       "      <td>2015-12-10 16:47:36</td>\n",
       "      <td>NORRISTOWN</td>\n",
       "      <td>AIRY ST &amp; SWEDE ST</td>\n",
       "      <td>1</td>\n",
       "      <td>EMS</td>\n",
       "      <td>16</td>\n",
       "      <td>12</td>\n",
       "      <td>3</td>\n",
       "      <td>2015-12-10</td>\n",
       "    </tr>\n",
       "    <tr>\n",
       "      <th>4</th>\n",
       "      <td>40.251492</td>\n",
       "      <td>-75.603350</td>\n",
       "      <td>CHERRYWOOD CT &amp; DEAD END;  LOWER POTTSGROVE; S...</td>\n",
       "      <td>NaN</td>\n",
       "      <td>EMS: DIZZINESS</td>\n",
       "      <td>2015-12-10 16:56:52</td>\n",
       "      <td>LOWER POTTSGROVE</td>\n",
       "      <td>CHERRYWOOD CT &amp; DEAD END</td>\n",
       "      <td>1</td>\n",
       "      <td>EMS</td>\n",
       "      <td>16</td>\n",
       "      <td>12</td>\n",
       "      <td>3</td>\n",
       "      <td>2015-12-10</td>\n",
       "    </tr>\n",
       "  </tbody>\n",
       "</table>\n",
       "</div>"
      ],
      "text/plain": [
       "         lat        lng                                               desc  \\\n",
       "0  40.297876 -75.581294  REINDEER CT & DEAD END;  NEW HANOVER; Station ...   \n",
       "1  40.258061 -75.264680  BRIAR PATH & WHITEMARSH LN;  HATFIELD TOWNSHIP...   \n",
       "2  40.121182 -75.351975  HAWS AVE; NORRISTOWN; 2015-12-10 @ 14:39:21-St...   \n",
       "3  40.116153 -75.343513  AIRY ST & SWEDE ST;  NORRISTOWN; Station 308A;...   \n",
       "4  40.251492 -75.603350  CHERRYWOOD CT & DEAD END;  LOWER POTTSGROVE; S...   \n",
       "\n",
       "       zip                    title           timeStamp                twp  \\\n",
       "0  19525.0   EMS: BACK PAINS/INJURY 2015-12-10 17:10:52        NEW HANOVER   \n",
       "1  19446.0  EMS: DIABETIC EMERGENCY 2015-12-10 17:29:21  HATFIELD TOWNSHIP   \n",
       "2  19401.0      Fire: GAS-ODOR/LEAK 2015-12-10 14:39:21         NORRISTOWN   \n",
       "3  19401.0   EMS: CARDIAC EMERGENCY 2015-12-10 16:47:36         NORRISTOWN   \n",
       "4      NaN           EMS: DIZZINESS 2015-12-10 16:56:52   LOWER POTTSGROVE   \n",
       "\n",
       "                         addr  e reason  Hour  Month  Dayofweek        date  \n",
       "0      REINDEER CT & DEAD END  1    EMS    17     12          3  2015-12-10  \n",
       "1  BRIAR PATH & WHITEMARSH LN  1    EMS    17     12          3  2015-12-10  \n",
       "2                    HAWS AVE  1   Fire    14     12          3  2015-12-10  \n",
       "3          AIRY ST & SWEDE ST  1    EMS    16     12          3  2015-12-10  \n",
       "4    CHERRYWOOD CT & DEAD END  1    EMS    16     12          3  2015-12-10  "
      ]
     },
     "execution_count": 160,
     "metadata": {},
     "output_type": "execute_result"
    }
   ],
   "source": [
    "data_911.head()"
   ]
  },
  {
   "cell_type": "code",
   "execution_count": 177,
   "metadata": {},
   "outputs": [
    {
     "data": {
      "text/plain": [
       "<matplotlib.axes._subplots.AxesSubplot at 0x363aeac8>"
      ]
     },
     "execution_count": 177,
     "metadata": {},
     "output_type": "execute_result"
    },
    {
     "data": {
      "image/png": "[encoded data removed]",
      "text/plain": [
       "<Figure size 576x720 with 2 Axes>"
      ]
     },
     "metadata": {},
     "output_type": "display_data"
    }
   ],
   "source": [
    "dayhour=data_911.groupby(by=['Dayofweek','Hour']).count()['reason'].unstack()\n",
    "plt.figure(figsize=(8,10))\n",
    "sns.heatmap(dayhour,cmap='viridis')\n"
   ]
  },
  {
   "cell_type": "code",
   "execution_count": 178,
   "metadata": {},
   "outputs": [
    {
     "data": {
      "text/plain": [
       "<seaborn.matrix.ClusterGrid at 0x35f675c0>"
      ]
     },
     "execution_count": 178,
     "metadata": {},
     "output_type": "execute_result"
    },
    {
     "data": {
      "image/png": "[encoded data removed]",
      "text/plain": [
       "<Figure size 720x720 with 4 Axes>"
      ]
     },
     "metadata": {},
     "output_type": "display_data"
    }
   ],
   "source": [
    "sns.clustermap(dayhour)"
   ]
  }
 ],
 "metadata": {
  "kernelspec": {
   "display_name": "Python 3",
   "language": "python",
   "name": "python3"
  },
  "language_info": {
   "codemirror_mode": {
    "name": "ipython",
    "version": 3
   },
   "file_extension": ".py",
   "mimetype": "text/x-python",
   "name": "python",
   "nbconvert_exporter": "python",
   "pygments_lexer": "ipython3",
   "version": "3.6.5"
  }
 },
 "nbformat": 4,
 "nbformat_minor": 2
}
